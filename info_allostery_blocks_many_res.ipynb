{
 "cells": [
  {
   "cell_type": "code",
   "execution_count": 1,
   "id": "8b349dba-2081-4972-a43d-563d90ae7643",
   "metadata": {},
   "outputs": [],
   "source": [
    "using MDToolbox\n",
    "using Statistics\n",
    "using LinearAlgebra\n",
    "using BenchmarkTools"
   ]
  },
  {
   "cell_type": "code",
   "execution_count": 2,
   "id": "494b5284-dc0f-42d6-8b27-3244cb709a93",
   "metadata": {},
   "outputs": [
    {
     "data": {
      "text/plain": [
       "printlnsep (generic function with 1 method)"
      ]
     },
     "execution_count": 2,
     "metadata": {},
     "output_type": "execute_result"
    }
   ],
   "source": [
    "function printlnsep(args...; sep::String = \" \")\n",
    "    println(join(args, sep))\n",
    "end"
   ]
  },
  {
   "cell_type": "code",
   "execution_count": 3,
   "id": "7b88a6f7-0ae3-4172-b091-9692a0c8025f",
   "metadata": {
    "tags": []
   },
   "outputs": [
    {
     "name": "stdout",
     "output_type": "stream",
     "text": [
      "Warning: boxsize information discarded in some trajectories\n"
     ]
    },
    {
     "data": {
      "text/plain": [
       "1001x264 TrjArray{Float64, Int64}\n",
       "| A                          |  …   C                          |\n",
       "| 1THR                       |  …   264DEX                     |\n",
       "| 1CA                        |  …   264C9                      |\n",
       "|    38.45    20.08    52.33 |  …      31.48    48.93    29.36 |\n",
       "|    36.37    18.64    50.34 |         31.35    48.49    29.37 |\n",
       "|    38.92    20.80    52.49 |         31.36    48.85    29.44 |\n",
       "|    42.21    23.58    53.53 |         31.78    48.84    29.65 |\n",
       "|    42.27    24.53    55.04 |         31.35    48.63    29.97 |\n",
       "|    40.99    24.76    54.83 |  …      32.02    48.64    29.82 |\n",
       "|    41.02    23.84    54.72 |         31.76    48.71    29.31 |\n",
       "|    39.43    21.71    54.24 |         31.51    48.92    29.38 |\n",
       "|    38.63    22.02    55.43 |         31.15    48.45    28.60 |\n",
       "|    39.75    24.66    56.44 |         32.06    48.77    29.29 |\n",
       "|    38.51    27.67    57.07 |  …      31.45    48.57    29.80 |\n",
       "|             ⋮              |  ⋱               ⋮              |\n",
       "|    37.01    21.38    54.20 |  …      32.33    48.50    29.54 |\n",
       "|    36.63    23.35    56.54 |         32.05    48.23    29.57 |\n",
       "|    38.93    25.72    54.83 |         32.20    48.18    29.23 |\n",
       "|    39.25    25.35    55.87 |         32.35    48.57    28.71 |\n",
       "|    39.72    26.83    54.28 |         32.16    48.63    29.16 |\n",
       "|    40.30    28.33    54.72 |  …      32.15    48.46    29.36 |\n",
       "|    40.44    29.17    54.54 |         32.25    48.43    29.38 |\n",
       "|    40.74    28.39    55.68 |         32.13    48.49    29.36 |\n",
       "|    41.30    28.76    53.92 |         32.10    48.57    29.74 |\n",
       "|    41.13    28.01    53.99 |         32.32    48.41    29.75 |\n",
       "|    41.13    27.24    54.14 |  …      32.28    48.44    29.56 |"
      ]
     },
     "execution_count": 3,
     "metadata": {},
     "output_type": "execute_result"
    }
   ],
   "source": [
    "path=\"/Users/yulian/MY_DATA/LU/TECH/gr/info_allostery/dex_f602s/\"\n",
    "t = mdload(\"$path/dex_f602s_CA_dexC9_dt1_second100ns.pdb\")\n",
    "t = mdload(\"$path/dex_f602s_CA_dexC9_dt100_second100ns.dcd\",top=t)\n"
   ]
  },
  {
   "cell_type": "code",
   "execution_count": 16,
   "id": "267ed8a1-2f44-4670-8a2d-baf47f35be95",
   "metadata": {},
   "outputs": [
    {
     "data": {
      "text/plain": [
       "read_simply_formatted_paths_file (generic function with 1 method)"
      ]
     },
     "execution_count": 16,
     "metadata": {},
     "output_type": "execute_result"
    }
   ],
   "source": [
    "function read_simply_formatted_paths_file(path_to_file)\n",
    "\n",
    "    all_paths = Vector{Vector{Int64}}()\n",
    "    all_paths_length = Vector{Float64}()\n",
    "\n",
    "    #open(\"$path/simply_formatted_paths_short.txt\") do f\n",
    "    open(\"$path_to_file\") do f\n",
    "\n",
    "        temp_path = Vector{Int64}() \n",
    "        lines = readlines(f) # read from file\n",
    "\n",
    "        for i in 1:size(lines,1)\n",
    "            pieces = split(lines[i], ' ', keepempty=false)\n",
    "            for j in 1:size(pieces,1)  \n",
    "                piece= parse(Float64, pieces[j])\n",
    "                if j ==1\n",
    "                    push!(all_paths_length,piece)\n",
    "                else    \n",
    "                    push!(temp_path,piece)\n",
    "                end\n",
    "\n",
    "            end\n",
    "            push!(all_paths,temp_path)\n",
    "            temp_path = [] \n",
    "        end\n",
    "    end\n",
    "\n",
    "    # println(all_paths)\n",
    "    # println(all_paths_length)\n",
    "\n",
    "    return all_paths, all_paths_length\n",
    "\n",
    "end\n",
    "\n",
    "#readdlm(\"$path/simply_formatted_paths_short.txt\", ' ',Float64)"
   ]
  },
  {
   "cell_type": "code",
   "execution_count": 17,
   "id": "d4e2db33-823f-4019-b9d7-12248cb6ee67",
   "metadata": {},
   "outputs": [
    {
     "data": {
      "text/plain": [
       "([[263, 38, 42], [263, 35, 224], [263, 35, 221, 224]], [1.506185938967109, 1.5890180875338822, 1.6167415099972362])"
      ]
     },
     "execution_count": 17,
     "metadata": {},
     "output_type": "execute_result"
    }
   ],
   "source": [
    "all_paths, all_paths_length = read_simply_formatted_paths_file(\"$path/simply_formatted_paths_short.txt\")"
   ]
  },
  {
   "cell_type": "code",
   "execution_count": null,
   "id": "e0a4165d-1e6c-46b5-a7b6-8242e1b65e99",
   "metadata": {},
   "outputs": [],
   "source": [
    "# all_x = t.xyz[:,1:3:end]\n",
    "# all_y = t.xyz[:,2:3:end]\n",
    "# all_z = t.xyz[:,3:3:end]\n",
    "\n",
    "# #all_x[1,:] # rows - frames; columns - atoms\n",
    "\n",
    "# mean_t = mean(t.xyz, dims=1)\n",
    "\n",
    "# size(t.xyz)\n",
    "\n",
    "# size(dr)\n",
    "# size(t.xyz,1)"
   ]
  },
  {
   "cell_type": "code",
   "execution_count": null,
   "id": "999d7418-bdc9-4827-a011-5cbd8cae3e95",
   "metadata": {},
   "outputs": [],
   "source": [
    "# step=100\n",
    "# block_numb=10\n",
    "# t.xyz[1+step*(block_numb-1):step*block_numb,:]"
   ]
  },
  {
   "cell_type": "code",
   "execution_count": 19,
   "id": "bb38ce83-731f-4da1-8857-f6bd4dadeb57",
   "metadata": {},
   "outputs": [
    {
     "data": {
      "text/plain": [
       "get_time_indep_MI (generic function with 1 method)"
      ]
     },
     "execution_count": 19,
     "metadata": {},
     "output_type": "execute_result"
    }
   ],
   "source": [
    "function get_dr_for_a_block(t;step=step,block_numb=block_numb)\n",
    "\n",
    "    coord_block = t.xyz[1+step*(block_numb-1):step*block_numb,:]\n",
    "    \n",
    "    mean_t = mean(coord_block, dims=1)\n",
    "    \n",
    "    dr = zeros(size(coord_block,1),size(coord_block,2))\n",
    "    for i = 1:size(coord_block,1) # for frame\n",
    "        #println(size(t.xyz[i,:]))\n",
    "        dr[i,:] = coord_block[i,:] .- mean_t[1,:]\n",
    "    end\n",
    "\n",
    "    return dr\n",
    "\n",
    "end\n",
    "\n",
    "function get_dr(t;step=step)\n",
    "\n",
    "    mean_t = mean(t.xyz, dims=1)\n",
    "    \n",
    "    dr = zeros(size(t.xyz,1),size(t.xyz,2))\n",
    "    for i = 1:size(t.xyz,1) # for frame\n",
    "        #println(size(t.xyz[i,:]))\n",
    "        dr[i,:] = t.xyz[i,:] .- mean_t[1,:]\n",
    "    end\n",
    "\n",
    "    return dr\n",
    "\n",
    "end\n",
    "\n",
    "\n",
    "function dot_product_res_res(t,dr;res1,res2,step)\n",
    "\n",
    "    #dot_prod_in_frames = zeros(size(t.xyz,1))\n",
    "    dot_prod_in_frames = zeros(size(dr,1))\n",
    "\n",
    "    #for frame = 1:size(t.xyz,1) # for frame\n",
    "    for frame = 1:step # for frame\n",
    "\n",
    "        dot_prod_in_frames[frame] = dot(dr[frame,3*res1-2:3*res1],dr[frame,3*res2-2:3*res2])\n",
    "\n",
    "    end\n",
    "\n",
    "    return dot_prod_in_frames\n",
    "\n",
    "end\n",
    "   \n",
    "function dot_product_res_res_with_tau_shift(t,dr;res1,res2,tau,step)\n",
    "\n",
    "    #dot_prod_in_frames = zeros(size(t.xyz,1)-tau)\n",
    "    dot_prod_in_frames = zeros(size(dr,1)-tau)\n",
    "\n",
    "    #dr_res1 = dr[1:size(t.xyz,1)-tau,3*res1-2:3*res1]\n",
    "    #dr_res2 = dr[1+tau:size(t.xyz,1),3*res2-2:3*res2]\n",
    "    dr_res1 = dr[1:size(dr,1)-tau,3*res1-2:3*res1]\n",
    "    dr_res2 = dr[1+tau:size(dr,1),3*res2-2:3*res2]\n",
    "    \n",
    "    for frame = 1:step-tau # for frame\n",
    "\n",
    "        dot_prod_in_frames[frame] = dot(dr_res1[frame,:],dr_res2[frame,:])\n",
    "\n",
    "    end\n",
    "    \n",
    "    return dot_prod_in_frames\n",
    "\n",
    "end\n",
    "\n",
    "function get_time_indep_MI(dot_prod_in_frames,denom1,denom2)\n",
    "    \n",
    "    numerator = mean(dot_prod_in_frames)^2\n",
    "    return -0.5*log(abs(1-numerator/(mean(denom1)*mean(denom2))))\n",
    "    \n",
    "end"
   ]
  },
  {
   "cell_type": "code",
   "execution_count": null,
   "id": "42734b84-90d2-4aee-8ec0-ae8a6f42bd37",
   "metadata": {},
   "outputs": [],
   "source": [
    "# TEST\n",
    "\n",
    "# res1=22\n",
    "# res2=100\n",
    "# step=1001\n",
    "\n",
    "# dr_glob = get_dr(t)\n",
    "\n",
    "# dot_prod_in_frames = dot_product_res_res(t,dr_glob;res1=res1,res2=res2,step=1001)\n",
    "# dot_prod_in_frames_tau_shift = dot_product_res_res_with_tau_shift(t,dr_glob;res1=res1,res2=res2,tau=1,step=1001)\n",
    "\n",
    "\n",
    "# denom1 = dot_product_res_res(t,dr_glob,res1=res1,res2=res1,step=1001)\n",
    "# denom2 = dot_product_res_res(t,dr_glob,res1=res2,res2=res2,step=1001)\n",
    "\n",
    "# #println(denom2)\n",
    "# time_indep_MI = get_time_indep_MI(dot_prod_in_frames,denom1,denom2)\n",
    "\n",
    "# println(time_indep_MI)\n",
    "# println(size(dot_prod_in_frames_tau_shift))"
   ]
  },
  {
   "cell_type": "code",
   "execution_count": 20,
   "id": "92c7f019-1cd8-4f32-abc7-4a24c752cf3a",
   "metadata": {},
   "outputs": [
    {
     "data": {
      "text/plain": [
       "get_info_transfer (generic function with 1 method)"
      ]
     },
     "execution_count": 20,
     "metadata": {},
     "output_type": "execute_result"
    }
   ],
   "source": [
    "function get_info_transfer(t,dr;res1,res2,tau,step)\n",
    "\n",
    "    dot_prod_in_frames = dot_product_res_res(t,dr;res1=res1,res2=res2,step=step)\n",
    "    \n",
    "    #denom1, denom2 = get_denom_time_indep_MI(dr,res1,res2)\n",
    "    denom1 = dot_product_res_res(t,dr,res1=res1,res2=res1,step=step)\n",
    "    denom2 = dot_product_res_res(t,dr,res1=res2,res2=res2,step=step)\n",
    "    \n",
    "    time_indep_MI = get_time_indep_MI(dot_prod_in_frames,denom1,denom2)\n",
    "    #print (\"time_indep_MI: \", round(time_indep_MI,3))\n",
    "    \n",
    "    ############\n",
    "    \n",
    "    numerator1 = mean(dot_prod_in_frames)^2\n",
    "    \n",
    "    dot_prod_in_frames_tau_shift = dot_product_res_res_with_tau_shift(t,dr,res1=res1,res2=res2,tau=tau,step=step)\n",
    "    numerator2 = mean(dot_prod_in_frames_tau_shift)^2\n",
    "    \n",
    "    dot_prod_in_frames_res2_res2 = dot_product_res_res(t,dr,res1=res2,res2=res2,step=step)\n",
    "    numerator3 = mean(dot_prod_in_frames_res2_res2)\n",
    "    # numerator3 = mean(dr[:,res2,:]^2,axis=0)\n",
    "    \n",
    "    numerator4 = 2*mean(dot_prod_in_frames)\n",
    "    \n",
    "    dot_prod_in_frames_tau_shift_res2_res2 = dot_product_res_res_with_tau_shift(t,dr,res1=res2,res2=res2,tau=tau,step=step)\n",
    "    numerator5 = mean(dot_prod_in_frames_tau_shift_res2_res2)\n",
    "    \n",
    "    numerator6 = mean(dot_prod_in_frames_tau_shift)\n",
    "\n",
    "    numerator_All = (numerator1 + numerator2)*numerator3 - numerator4*numerator5*numerator6\n",
    "    \n",
    "    ############\n",
    "    \n",
    "    denominator1 = numerator3^2\n",
    "    denominator2 = numerator5^2\n",
    "    dot_prod_in_frames_res1_res1 = dot_product_res_res(t,dr,res1=res1,res2=res1,step=step)\n",
    "    denominator3 = mean(dot_prod_in_frames_res1_res1)\n",
    "    \n",
    "    denominator1_All = (denominator1-denominator2)*denominator3\n",
    "    \n",
    "    time_depended_MI = -0.5*log(abs(1-numerator_All/denominator1_All))\n",
    "    #print(\"time_depended_MI: \", round(time_depended_MI,3))\n",
    "    \n",
    "    Tij = time_depended_MI-time_indep_MI\n",
    "    #print (\"Tij = \",round(Tij,3))\n",
    "    return time_indep_MI, time_depended_MI, Tij\n",
    "end"
   ]
  },
  {
   "cell_type": "code",
   "execution_count": 26,
   "id": "4360465c-0086-4fd1-93b9-6506302b6752",
   "metadata": {},
   "outputs": [
    {
     "data": {
      "text/plain": [
       "(0.22379271263859093, 0.2257475609008787, 0.001954848262287756)"
      ]
     },
     "execution_count": 26,
     "metadata": {},
     "output_type": "execute_result"
    }
   ],
   "source": [
    "#%%time \n",
    "#@time begin\n",
    "#@elapsed \n",
    "\n",
    "dr_glob = get_dr(t,step=100)\n",
    "\n",
    "tau=1\n",
    "res1=222\n",
    "res2=226\n",
    "\n",
    "time_indep_MI, time_depended_MI, Tij = get_info_transfer(t,dr_glob,res1=res1,res2=res2,tau=tau,step=1001)\n",
    "# print(\"tau = \", tau, \"ps\")\n",
    "# print (\"time_indep_MI: \", round(time_indep_MI,5))\n",
    "# print(\"time_depended_MI: \", round(time_depended_MI,5))\n",
    "# print (\"Tij = \",round(Tij,3))\n",
    "#end"
   ]
  },
  {
   "cell_type": "code",
   "execution_count": null,
   "id": "781a66cb-dc02-4164-a6d2-0cd8f76b654f",
   "metadata": {},
   "outputs": [],
   "source": [
    "#dr_block= get_dr_in_blocks(t;step=10,block_numb=1)\n"
   ]
  },
  {
   "cell_type": "code",
   "execution_count": null,
   "id": "bf9cae21-f82f-41b5-8d77-4d2ca1fcfa6c",
   "metadata": {},
   "outputs": [],
   "source": [
    "# step=100\n",
    "# dr_in_blocks = zeros(0,step,size(t.xyz,2))\n"
   ]
  },
  {
   "cell_type": "code",
   "execution_count": 22,
   "id": "d0f6f6dd-4216-4bad-9d26-d252fe1e13ff",
   "metadata": {},
   "outputs": [
    {
     "data": {
      "text/plain": [
       "get_dr_in_blocks (generic function with 1 method)"
      ]
     },
     "execution_count": 22,
     "metadata": {},
     "output_type": "execute_result"
    }
   ],
   "source": [
    "function get_dr_in_blocks(t,step,nblocks)\n",
    "\n",
    "    dr_in_blocks = zeros(nblocks,step,Int64(size(t.xyz,2)))\n",
    "    \n",
    "    for block_numb in 1:nblocks # nblocks\n",
    "    \n",
    "        #dr = get_dr_in_blocks(t;step=step,block_numb=block_numb)\n",
    "        dr_in_blocks[block_numb,:,:] = get_dr_for_a_block(t;step=step,block_numb=block_numb)\n",
    "    end\n",
    "\n",
    "    return dr_in_blocks\n",
    "        \n",
    "end"
   ]
  },
  {
   "cell_type": "code",
   "execution_count": null,
   "id": "bb4ad89b-4b59-4345-bb09-54019a5bd1e0",
   "metadata": {},
   "outputs": [],
   "source": [
    "# step=100\n",
    "# nblocks=10\n",
    "# dr_in_blocks = get_dr_in_blocks(t,100,10)\n",
    "# #dr_in_blocks[1,:,:]"
   ]
  },
  {
   "cell_type": "code",
   "execution_count": 23,
   "id": "1609438b-7ca3-4334-b074-c135fc6a4768",
   "metadata": {},
   "outputs": [
    {
     "data": {
      "text/plain": [
       "get_info_transfer_per_path (generic function with 1 method)"
      ]
     },
     "execution_count": 23,
     "metadata": {},
     "output_type": "execute_result"
    }
   ],
   "source": [
    "\n",
    "function get_info_transfer_per_path(t,dr_in_blocks,step,path1,nblocks,all_tau)\n",
    "\n",
    "    avg_tij_in_pairs_in_blocks = zeros((size(path1,1)-1))\n",
    "    avg_time_indep_MI_in_pairs_in_blocks = zeros((size(path1,1)-1))\n",
    "    avg_time_depended_MI_in_pairs_in_blocks = zeros((size(path1,1)-1))\n",
    "\n",
    "    avg_tij_in_pairs_all_tau = zeros(((size(path1,1)-1),size(all_tau,1)))\n",
    "    avg_time_indep_MI_in_pairs_all_tau = zeros(((size(path1,1)-1),size(all_tau,1)))\n",
    "    avg_time_depended_MI_in_pairs_all_tau = zeros(((size(path1,1)-1),size(all_tau,1)))\n",
    "\n",
    "    for block_numb in 1:nblocks # nblocks\n",
    "\n",
    "        dr = dr_in_blocks[block_numb,:,:]\n",
    "\n",
    "        for pair in 1:(size(path1,1)-1)\n",
    "\n",
    "            res2 = path1[pair]\n",
    "            res1 = path1[pair+1]\n",
    "\n",
    "            for tau_ndx in 1:size(all_tau,1)\n",
    "\n",
    "                #println(all_tau[tau_ndx])\n",
    "                time_indep_MI, time_depended_MI, Tij = get_info_transfer(t,dr,res1=res1,res2=res2,tau=all_tau[tau_ndx],step=step)\n",
    "                #println(time_indep_MI,\" \", time_depended_MI,\" \", Tij)\n",
    "                avg_tij_in_pairs_all_tau[pair,tau_ndx] += Tij\n",
    "                avg_time_indep_MI_in_pairs_all_tau[pair,tau_ndx] += time_indep_MI\n",
    "                avg_time_depended_MI_in_pairs_all_tau[pair,tau_ndx] += time_depended_MI\n",
    "\n",
    "            end\n",
    "        end \n",
    "    end\n",
    "\n",
    "    #avg_tij_in_pairs_all_tau\n",
    "\n",
    "    max_tij_in_pairs = maximum(avg_tij_in_pairs_all_tau,dims = 2) / nblocks\n",
    "    tau_of_max_Tij_ndx = argmax(avg_tij_in_pairs_all_tau,dims = 2)[:]\n",
    "\n",
    "    max_tau_in_pairs = zeros(Int64,0)\n",
    "    max_indep_MI_in_pairs = zeros(0)\n",
    "    max_depended_MI_in_pairs = zeros(0)\n",
    "\n",
    "    for i in tau_of_max_Tij_ndx\n",
    "        append!(max_tau_in_pairs,all_tau[convert(Tuple,i)[2]])\n",
    "        append!(max_indep_MI_in_pairs,avg_time_indep_MI_in_pairs_all_tau[convert(Tuple,i)[1],convert(Tuple,i)[2]])\n",
    "        append!(max_depended_MI_in_pairs,avg_time_depended_MI_in_pairs_all_tau[convert(Tuple,i)[1],convert(Tuple,i)[2]])   \n",
    "    end\n",
    "    max_indep_MI_in_pairs /=nblocks\n",
    "    max_depended_MI_in_pairs /=nblocks\n",
    "\n",
    "    # println(max_tau_in_pairs)\n",
    "    # println(max_tij_in_pairs)\n",
    "    # println(max_indep_MI_in_pairs)\n",
    "    # println(max_depended_MI_in_pairs)\n",
    "\n",
    "    path_Tij = 0\n",
    "    path_Info = 0\n",
    "\n",
    "    path_Tij_min = 10000\n",
    "    path_Info_min = 10000\n",
    "\n",
    "    for pair in 1:(size(path1,1)-1)\n",
    "        path_Tij += max_tij_in_pairs[pair]\n",
    "        path_Info += max_tij_in_pairs[pair]/max_tau_in_pairs[pair]\n",
    "\n",
    "        if max_tij_in_pairs[pair] < path_Tij_min\n",
    "            path_Tij_min = max_tij_in_pairs[pair]\n",
    "            path_Info_min = max_tij_in_pairs[pair]/max_tau_in_pairs[pair]\n",
    "        end\n",
    "    end\n",
    "\n",
    "    return path_Tij, path_Info, path_Tij_min, path_Info_min\n",
    "\n",
    "end"
   ]
  },
  {
   "cell_type": "code",
   "execution_count": null,
   "id": "aaa1af92-c837-48e5-a150-e8f51d141743",
   "metadata": {},
   "outputs": [],
   "source": [
    "# wisp_out  = pd.read_csv(f\"./simply_formatted_paths.txt\",sep='\\s+', names=[x for x in range(0,21)])\n",
    "# all_paths = wisp_out.iloc[:, 0::].fillna(\"0\").astype(float)"
   ]
  },
  {
   "cell_type": "code",
   "execution_count": 27,
   "id": "e8a0f999-56e6-49f3-a8e8-30b868a89b8c",
   "metadata": {},
   "outputs": [
    {
     "name": "stdout",
     "output_type": "stream",
     "text": [
      "1.506185938967109 262 37 41 0.01138997002434632 0.0023168668669047423 0.011187760560420664 0.002235440878059071 0.0002022094639256549 1.0364250245420803 0.0035375042612122523 0.0003537504261212252 0.0044656036710554875 0.001488534557018496 -0.0009280994098432352\n",
      "1.5890180875338822 262 34 223 0.007665935977925815 0.0008818264414744732 0.008037823499019863 0.0009537647633695448 -0.00037188752109404855 0.9245743555875124 0.0030566222306501424 0.0003056622230650142 0.0034995896475763636 0.0004999413782251948 -0.00044296741692622125\n",
      "1.6167415099972362 262 34 220 223 0.012500395246658401 0.0016727670219138313 0.01306580981875438 0.006856919204741377 -0.0005654145720959784 0.24395314746557864 0.0030566222306501424 0.0003056622230650142 0.0042489602954277035 0.0021244801477138518 -0.0011923380647775612\n"
     ]
    }
   ],
   "source": [
    "#path1 = [264, 36, 222, 226, 227]\n",
    "all_tau=[1,2,3,4,5,6,7,8,9,10] \n",
    "step=100\n",
    "nblocks=10\n",
    "dr_in_blocks = get_dr_in_blocks(t,100,10)\n",
    "\n",
    "###################################\n",
    "global count=1\n",
    "\n",
    "for path1 in all_paths\n",
    "\n",
    "    path_Tij, path_Info, path_Tij_min, path_Info_min = get_info_transfer_per_path(t,dr_in_blocks,step,path1,nblocks,all_tau)\n",
    "    path_Tij_flip, path_Info_flip, path_Tij_min_flip, path_Info_min_flip = get_info_transfer_per_path(t,dr_in_blocks,step,reverse(path1),nblocks,all_tau)\n",
    "\n",
    "    net_info_tr = path_Tij-path_Tij_flip\n",
    "    rate_const = path_Info/path_Info_flip\n",
    "    min_info_tr = path_Tij_min-path_Tij_min_flip\n",
    "\n",
    "    print(all_paths_length[count], \" \")\n",
    "    path1=path1.-1\n",
    "\n",
    "    for res in path1\n",
    "        print(res, \" \")\n",
    "    end\n",
    "\n",
    "    printlnsep(path_Tij,path_Info,path_Tij_flip,path_Info_flip,net_info_tr,rate_const,path_Tij_min,path_Info_min,path_Tij_min_flip,path_Info_min_flip,min_info_tr,sep=\" \")\n",
    "    global count+=1\n",
    "end\n"
   ]
  },
  {
   "cell_type": "code",
   "execution_count": null,
   "id": "8ed72ddb-791f-47b3-bc06-58c447aaa1ea",
   "metadata": {},
   "outputs": [],
   "source": []
  }
 ],
 "metadata": {
  "kernelspec": {
   "display_name": "Julia 1.8.1",
   "language": "julia",
   "name": "julia-1.8"
  },
  "language_info": {
   "file_extension": ".jl",
   "mimetype": "application/julia",
   "name": "julia",
   "version": "1.8.1"
  }
 },
 "nbformat": 4,
 "nbformat_minor": 5
}
